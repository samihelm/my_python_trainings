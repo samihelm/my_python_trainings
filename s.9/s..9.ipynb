{
 "cells": [
  {
   "cell_type": "markdown",
   "metadata": {},
   "source": [
    "1"
   ]
  },
  {
   "cell_type": "code",
   "execution_count": 6,
   "metadata": {},
   "outputs": [
    {
     "data": {
      "text/plain": [
       "'123456'"
      ]
     },
     "execution_count": 6,
     "metadata": {},
     "output_type": "execute_result"
    }
   ],
   "source": [
    "def reverse(a):\n",
    "    \n",
    "    g=list(str(a))\n",
    "    s=''\n",
    "    for char in g[::-1]:\n",
    "        s+=char\n",
    "    return s\n",
    "num=int(input(\"please enter your integer number:\"))\n",
    "q=reverse(num)\n",
    "q\n",
    "\n",
    "\n",
    "\n"
   ]
  },
  {
   "cell_type": "markdown",
   "metadata": {},
   "source": [
    "1\""
   ]
  },
  {
   "cell_type": "code",
   "execution_count": 8,
   "metadata": {},
   "outputs": [
    {
     "name": "stdout",
     "output_type": "stream",
     "text": [
      "entering number is :  987654321\n",
      "the reversed number is :  123456789\n"
     ]
    }
   ],
   "source": [
    "def reverse(a):\n",
    "      \n",
    "    g = str(a)\n",
    "    print(\"entering number is : \",g)\n",
    "    s = g[::-1]\n",
    "    return s\n",
    "    \n",
    "a = int(input(\"please enter your integer number:\"))\n",
    "q=reverse(a)\n",
    "print(\"the reversed number is : \",q)\n",
    "    "
   ]
  },
  {
   "cell_type": "markdown",
   "metadata": {},
   "source": [
    "2"
   ]
  },
  {
   "cell_type": "code",
   "execution_count": 11,
   "metadata": {},
   "outputs": [
    {
     "name": "stdout",
     "output_type": "stream",
     "text": [
      "[\"GitHub's\", '“Hello', 'World”', 'tutorial', 'teaches', 'you', 'essentials', 'where', 'you', 'create', 'your', 'own', 'repository', 'and', 'learn', \"GitHub's\", 'pull', 'request', 'workflow', 'for', 'creating', 'and', 'reviewing', 'code']\n",
      "the average of words lenght: 5.875\n"
     ]
    }
   ],
   "source": [
    "def avg_length(sentence):\n",
    "      words = sentence.split()\n",
    "      words = [word.strip('.,!?') for word in words]\n",
    "      print(words)\n",
    "      total_length = sum(len(word) for word in words)\n",
    "      total_words = len(words)\n",
    "      average_length = total_length / total_words\n",
    "      return average_length\n",
    "sentence = input(\"please enter an english sentence: \")\n",
    "average = avg_length(sentence)\n",
    "print(\"the average of words lenght:\", average)\n",
    "    "
   ]
  },
  {
   "cell_type": "markdown",
   "metadata": {},
   "source": [
    "3"
   ]
  },
  {
   "cell_type": "code",
   "execution_count": null,
   "metadata": {},
   "outputs": [
    {
     "name": "stdout",
     "output_type": "stream",
     "text": [
      "544\n"
     ]
    }
   ],
   "source": [
    "def add_string(num1, num2):\n",
    "     n1 = int(num1)\n",
    "     n2 = int(num2)\n",
    "     result = n1 + n2\n",
    "     return str(result)\n",
    "\n",
    "w=input(\"please enter a number_1 :\")\n",
    "e=input(\"please enter a number_2 :\")\n",
    "result = add_string(w,e)\n",
    "print(result)\n"
   ]
  },
  {
   "cell_type": "markdown",
   "metadata": {},
   "source": [
    "4"
   ]
  },
  {
   "cell_type": "code",
   "execution_count": null,
   "metadata": {},
   "outputs": [
    {
     "name": "stdout",
     "output_type": "stream",
     "text": [
      "vkhfdlppiyyfdea\n",
      "firt uniqe character : 'v'  is in : ( 0 ) index \n"
     ]
    }
   ],
   "source": [
    "def first_u_char(s):\n",
    "    char_count = {}\n",
    "    for char in s:\n",
    "        char_count[char] = char_count.get(char, 0) + 1\n",
    "\n",
    "    for i, char in enumerate(s):\n",
    "        if char_count[char] == 1:\n",
    "            return i\n",
    "        else:    \n",
    "            return -1\n",
    "    \n",
    "my_string = input(\"enter your english string: \")\n",
    "print(my_string)\n",
    "index = first_u_char(my_string)\n",
    "if index!=(-1):\n",
    "    print(f\"firt uniqe character : '{my_string [index]}'  is in : ( {index} ) index \")\n",
    "else:\n",
    "    \n",
    "    print(\"there isnt an uniqu character :(\")\n"
   ]
  }
 ],
 "metadata": {
  "kernelspec": {
   "display_name": "Python 3",
   "language": "python",
   "name": "python3"
  },
  "language_info": {
   "codemirror_mode": {
    "name": "ipython",
    "version": 3
   },
   "file_extension": ".py",
   "mimetype": "text/x-python",
   "name": "python",
   "nbconvert_exporter": "python",
   "pygments_lexer": "ipython3",
   "version": "3.10.11"
  }
 },
 "nbformat": 4,
 "nbformat_minor": 2
}
