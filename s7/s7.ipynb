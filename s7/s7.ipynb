{
 "cells": [
  {
   "cell_type": "code",
   "execution_count": 5,
   "metadata": {},
   "outputs": [
    {
     "data": {
      "text/plain": [
       "12567"
      ]
     },
     "execution_count": 5,
     "metadata": {},
     "output_type": "execute_result"
    }
   ],
   "source": [
    "from datetime import datetime as geoTime\n",
    "from jdatetime import datetime as jTime\n",
    "\n",
    "#میلادی\n",
    "bd = input('please enter your bd: in this format -> yy/mm/dd')\n",
    "bd = geoTime.strptime(bd,'%y/%m/%d')\n",
    "now = geoTime.now()\n",
    "(now - bd).days"
   ]
  },
  {
   "cell_type": "code",
   "execution_count": 6,
   "metadata": {},
   "outputs": [
    {
     "data": {
      "text/plain": [
       "12567"
      ]
     },
     "execution_count": 6,
     "metadata": {},
     "output_type": "execute_result"
    }
   ],
   "source": [
    "#شمسی\n",
    "bd = input('please enter your bd: in this format -> yy/mm/dd')\n",
    "bd = jTime.strptime(bd,'%y/%m/%d')\n",
    "now = jTime.now()\n",
    "(now - bd).days"
   ]
  },
  {
   "cell_type": "code",
   "execution_count": 7,
   "metadata": {},
   "outputs": [
    {
     "name": "stdout",
     "output_type": "stream",
     "text": [
      "[1, 3, 5, 7, 9, 11, 13, 15, 17, 19, 21, 23, 25, 27, 29, 31, 33, 35, 37, 39, 41, 43, 45, 47, 49, [3, 5, 9, 15, 21, 25, 27, 33, 35, 39, 45]]\n"
     ]
    }
   ],
   "source": [
    "odd_numbers = []\n",
    "for number in range(1, 51, 2):\n",
    "    odd_numbers.append(number)\n",
    "d_3_5 = []\n",
    "for num in odd_numbers[:]:\n",
    "    if num % 3 == 0 or num % 5 == 0:\n",
    "        d_3_5.append(num)\n",
    "\n",
    "odd_numbers.append(d_3_5)\n",
    "print(odd_numbers)"
   ]
  },
  {
   "cell_type": "code",
   "execution_count": 8,
   "metadata": {},
   "outputs": [
    {
     "name": "stdout",
     "output_type": "stream",
     "text": [
      "['hello', 'mello', 'mello', 'mello', 'hello', 'mello', 'hello', 'hallo', 'hallo', 'mello', 'hallo', 'hello', 'yellow', 'hello', 'hallo', 'hallo', 'mello', 'hello', 'mello', 'hello', 'hello', 'mello', 'mello', 'yellow', 'hallo', 'hello', 'hello', 'hallo', 'yellow', 'mello', 'mello', 'hello', 'hallo', 'mello', 'yellow', 'mello', 'mello', 'hallo', 'hello', 'yellow', 'hallo', 'yellow', 'hallo', 'hello', 'hello', 'yellow', 'hallo', 'mello', 'hallo', 'hello', 'mello', 'yellow', 'hello', 'yellow', 'hello', 'hallo', 'mello', 'mello', 'hello', 'hallo', 'mello', 'hallo', 'mello', 'hello', 'hallo', 'hello', 'yellow', 'mello', 'hello', 'hallo', 'mello', 'mello', 'mello', 'yellow', 'hello', 'yellow', 'hello', 'yellow', 'mello', 'hallo', 'yellow', 'yellow', 'hello', 'hallo', 'hallo', 'yellow', 'mello', 'mello', 'hallo', 'hello', 'mello', 'hello', 'hallo', 'hello', 'mello', 'hello', 'yellow', 'hello', 'mello', 'mello']\n"
     ]
    }
   ],
   "source": [
    "import random\n",
    "words = [\"hello\", \"yellow\", \"mello\", \"hallo\"]\n",
    "random_list = []\n",
    "for _ in range(100):\n",
    "    random_word = random.choice(words)\n",
    "    random_list.append(random_word)\n",
    "print(random_list)"
   ]
  },
  {
   "cell_type": "code",
   "execution_count": 9,
   "metadata": {},
   "outputs": [
    {
     "name": "stdout",
     "output_type": "stream",
     "text": [
      "['hello', 'hello', 'hello', 'hello', 'hello', 'hello', 'hello', 'hello', 'hello', 'hello', 'hello', 'hello', 'hello', 'hello', 'hello', 'hello', 'hello', 'hello', 'hello', 'hello', 'hello', 'hello', 'hello', 'hello', 'hello', 'hello', 'hello', 'hello', 'hello', 'hello', 'hello']\n"
     ]
    }
   ],
   "source": [
    "import random\n",
    "words = [\"hello\", \"yello\", \"mello\", \"hallo\"]\n",
    "random_list = []\n",
    "for _ in range(100):\n",
    "    random_word = random.choice(words)\n",
    "    random_list.append(random_word)\n",
    "\n",
    "for i in random_list[:]:\n",
    "    if i != \"hello\":\n",
    "       random_list.remove(i)\n",
    "\n",
    "print(random_list)"
   ]
  },
  {
   "cell_type": "code",
   "execution_count": 10,
   "metadata": {},
   "outputs": [
    {
     "name": "stdout",
     "output_type": "stream",
     "text": [
      "{'milk': 5, 'sugar': 2, 'butter': 10, 'yogurt': 1, 'cheese': 3}\n"
     ]
    }
   ],
   "source": [
    "items = [\"milk\", \"sugar\", \"butter\", \"yogurt\", \"cheese\"]\n",
    "Values = [5, 2, 10, 1,3]\n",
    "\n",
    "shopping_dict = {}\n",
    "for i,v in zip(items, Values):\n",
    "    shopping_dict[i] = v\n",
    "   \n",
    "print(shopping_dict)\n"
   ]
  },
  {
   "cell_type": "code",
   "execution_count": 11,
   "metadata": {},
   "outputs": [
    {
     "name": "stdout",
     "output_type": "stream",
     "text": [
      "minimum: 1\n",
      "maximum: 5\n"
     ]
    }
   ],
   "source": [
    "d = {'a': 3, 'b': 1, 'c': 5, 'd': 2}\n",
    "values = list(d.values())\n",
    "min_value = min(values)\n",
    "max_value = max(values)\n",
    "print(\"minimum:\", min_value)\n",
    "print(\"maximum:\",max_value)\n"
   ]
  },
  {
   "cell_type": "code",
   "execution_count": 12,
   "metadata": {},
   "outputs": [
    {
     "name": "stdout",
     "output_type": "stream",
     "text": [
      "the list of string words is:  ['Python', 'uses', 'new', 'lines', 'to', 'complete', 'a', 'command,', 'as', 'opposed', 'to', 'other', 'programming', 'languages', 'which', 'often', 'use', 'semicolons', 'or', 'parentheses.', 'The', 'most', 'recent', 'major', 'version', 'of', 'Python', 'is', 'Python', '3,', 'which', 'we', 'shall', 'be', 'using', 'in', 'this', 'tutorial.', 'However,', 'Python', '2,', 'although', 'not', 'being', 'updated', 'with', 'anything', 'other', 'than', 'security', 'updates,', 'is', 'still', 'quite', 'popular.']\n",
      "the number of repetitions of each word is : {'Python': 4, 'uses': 1, 'new': 1, 'lines': 1, 'to': 2, 'complete': 1, 'a': 1, 'command,': 1, 'as': 1, 'opposed': 1, 'other': 2, 'programming': 1, 'languages': 1, 'which': 2, 'often': 1, 'use': 1, 'semicolons': 1, 'or': 1, 'parentheses.': 1, 'The': 1, 'most': 1, 'recent': 1, 'major': 1, 'version': 1, 'of': 1, 'is': 2, '3,': 1, 'we': 1, 'shall': 1, 'be': 1, 'using': 1, 'in': 1, 'this': 1, 'tutorial.': 1, 'However,': 1, '2,': 1, 'although': 1, 'not': 1, 'being': 1, 'updated': 1, 'with': 1, 'anything': 1, 'than': 1, 'security': 1, 'updates,': 1, 'still': 1, 'quite': 1, 'popular.': 1}\n"
     ]
    }
   ],
   "source": [
    "w='''Python uses new lines to complete a command, as opposed to other programming languages which often use semicolons or parentheses.\n",
    "The most recent major version of Python is Python 3, which we shall be using in this tutorial.\n",
    "However, Python 2, although not being updated with anything other than security updates, is still quite popular.'''\n",
    "w=w.split()\n",
    "print(\"the list of string words is: \",w)\n",
    "\n",
    "dic={}\n",
    "for i in w:\n",
    "    dic[i]=w.count(i)\n",
    "print(\"the number of repetitions of each word is :\", dic)"
   ]
  },
  {
   "cell_type": "code",
   "execution_count": 14,
   "metadata": {},
   "outputs": [
    {
     "data": {
      "text/plain": [
       "{'a': 400, 'b': 400, 'd': 400, 'c': 300}"
      ]
     },
     "execution_count": 14,
     "metadata": {},
     "output_type": "execute_result"
    }
   ],
   "source": [
    "d1 = {'a': 100, 'b': 200, 'c':300}\n",
    "d2 = {'a': 300, 'b': 200, 'd':400}\n",
    "d2_copy=d2.copy()\n",
    "for k in d1:\n",
    "    if k in d2_copy:\n",
    "        d2[k]+=d1[k]   #مقدار کلید های مشابه را با هم جمع میکنه\n",
    "    else:\n",
    "        d2[k]=d1[k]     #همزمان هم کلید موجود در دی 1 که در دی 2 نیست ایجاد میکنه و هم مقدارش در دی 1 را به آن اختصاص میده.\n",
    "d2        \n"
   ]
  }
 ],
 "metadata": {
  "kernelspec": {
   "display_name": "Python 3",
   "language": "python",
   "name": "python3"
  },
  "language_info": {
   "codemirror_mode": {
    "name": "ipython",
    "version": 3
   },
   "file_extension": ".py",
   "mimetype": "text/x-python",
   "name": "python",
   "nbconvert_exporter": "python",
   "pygments_lexer": "ipython3",
   "version": "3.10.11"
  }
 },
 "nbformat": 4,
 "nbformat_minor": 2
}
