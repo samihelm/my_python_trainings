{
 "cells": [
  {
   "cell_type": "code",
   "execution_count": 2,
   "metadata": {},
   "outputs": [
    {
     "name": "stdout",
     "output_type": "stream",
     "text": [
      "year1:weight on the moon = 13.365kiloogram\n",
      "year2:weight on the moon = 13.530000000000001kiloogram\n",
      "year3:weight on the moon = 13.695kiloogram\n",
      "year4:weight on the moon = 13.860000000000001kiloogram\n",
      "year5:weight on the moon = 14.025kiloogram\n",
      "year6:weight on the moon = 14.190000000000001kiloogram\n",
      "year7:weight on the moon = 14.355kiloogram\n",
      "year8:weight on the moon = 14.520000000000001kiloogram\n",
      "year9:weight on the moon = 14.685kiloogram\n",
      "year10:weight on the moon = 14.850000000000001kiloogram\n",
      "year11:weight on the moon = 15.015kiloogram\n",
      "year12:weight on the moon = 15.180000000000001kiloogram\n",
      "year13:weight on the moon = 15.345kiloogram\n",
      "year14:weight on the moon = 15.510000000000002kiloogram\n",
      "year15:weight on the moon = 15.675kiloogram\n"
     ]
    }
   ],
   "source": [
    "w_earth = 80\n",
    "conversion_factor = 0.165\n",
    "for year in range(1,16):\n",
    "    w_earth+=1\n",
    "    w_moon = w_earth * conversion_factor\n",
    "    print(f\"year{year}:weight on the moon = {w_moon}kiloogram\")\n",
    "    \n"
   ]
  },
  {
   "cell_type": "code",
   "execution_count": null,
   "metadata": {},
   "outputs": [],
   "source": []
  },
  {
   "cell_type": "code",
   "execution_count": 7,
   "metadata": {},
   "outputs": [
    {
     "name": "stdout",
     "output_type": "stream",
     "text": [
      "your opposite name is:  amleh\n"
     ]
    }
   ],
   "source": [
    "name = input(\"please enter your name: \")\n",
    "opposite_name = name[::-1]\n",
    "print(\"your opposite name is: \",opposite_name)"
   ]
  },
  {
   "cell_type": "code",
   "execution_count": 9,
   "metadata": {},
   "outputs": [
    {
     "name": "stdout",
     "output_type": "stream",
     "text": [
      "your opposite name:  amleh\n"
     ]
    }
   ],
   "source": [
    "name = input(\"please enter your name: \")\n",
    "opposite_name = \"\"\n",
    "for char in name:\n",
    "    opposite_name = char + opposite_name\n",
    "print(\"your opposite name: \", opposite_name)"
   ]
  },
  {
   "cell_type": "code",
   "execution_count": 19,
   "metadata": {},
   "outputs": [
    {
     "name": "stdout",
     "output_type": "stream",
     "text": [
      "the average of the numbers to the num is :  2.0153846153846153\n"
     ]
    }
   ],
   "source": [
    "num = int(input(\"enter your integer number: \"))\n",
    "\n",
    "sumarage = 0\n",
    "for i in range(num+1):\n",
    "    \n",
    "    sumarage += 1\n",
    "ave = sumarage/num+1\n",
    "print(\"the average of the numbers to the num is : \",ave)    \n",
    "\n",
    "\n"
   ]
  },
  {
   "cell_type": "code",
   "execution_count": 23,
   "metadata": {},
   "outputs": [
    {
     "name": "stdout",
     "output_type": "stream",
     "text": [
      "the factorial of 5 is:  120\n"
     ]
    }
   ],
   "source": [
    "num = int(input(\"enter an integer number: \"))\n",
    "factorial =1\n",
    "for i in range(1,num+1):\n",
    "    factorial*=i\n",
    "print(\"the factorial of\", num ,\"is: \" ,factorial )    "
   ]
  },
  {
   "cell_type": "code",
   "execution_count": 27,
   "metadata": {},
   "outputs": [
    {
     "name": "stdout",
     "output_type": "stream",
     "text": [
      "the multiply of numbers is : 3628800\n"
     ]
    }
   ],
   "source": [
    "x = 1\n",
    "for i in range(10):\n",
    "    num = int(input(\"enter an integer number : \"))\n",
    "    x *=num\n",
    "print(\"the multiply of numbers is :\",x)  \n"
   ]
  },
  {
   "cell_type": "code",
   "execution_count": 28,
   "metadata": {},
   "outputs": [
    {
     "name": "stdout",
     "output_type": "stream",
     "text": [
      "the multyply of sum1 & sum2 is :  140625\n"
     ]
    }
   ],
   "source": [
    "num = int(input(\"enter an integer number : \"))\n",
    "#sum1:مجموع اعدادفرد از صفر تا عدد ورودی\n",
    "sum1 = 0\n",
    "#sum2:مجموع اعداد مضرب 5 از صفر تا عدد ورودی\n",
    "sum2 = 0\n",
    "for i in range(num):\n",
    "    if i%2==1:    \n",
    "        sum1+=i\n",
    "    if i%5==0:\n",
    "        sum2 += i\n",
    "mult = sum1*sum2\n",
    "print(\"the multyply of sum1 & sum2 is : \",mult)        \n"
   ]
  },
  {
   "cell_type": "code",
   "execution_count": 30,
   "metadata": {},
   "outputs": [
    {
     "name": "stdout",
     "output_type": "stream",
     "text": [
      "letters:  hgckjhvfkhvjkhvj\n",
      "digits :  654653\n"
     ]
    }
   ],
   "source": [
    "input_string = input(\"please enter a string:\" )\n",
    "letters = \"\"\n",
    "digits = \"\"\n",
    "for char in input_string:\n",
    "    if char.isdigit():\n",
    "        digits += char\n",
    "    elif char.isalpha():\n",
    "        letters += char\n",
    "print(\"letters: \", letters)\n",
    "print(\"digits : \", digits)\n"
   ]
  }
 ],
 "metadata": {
  "kernelspec": {
   "display_name": "Python 3",
   "language": "python",
   "name": "python3"
  },
  "language_info": {
   "codemirror_mode": {
    "name": "ipython",
    "version": 3
   },
   "file_extension": ".py",
   "mimetype": "text/x-python",
   "name": "python",
   "nbconvert_exporter": "python",
   "pygments_lexer": "ipython3",
   "version": "3.10.11"
  }
 },
 "nbformat": 4,
 "nbformat_minor": 2
}
