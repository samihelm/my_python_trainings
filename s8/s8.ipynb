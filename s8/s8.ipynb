{
 "cells": [
  {
   "cell_type": "markdown",
   "metadata": {},
   "source": [
    "#1"
   ]
  },
  {
   "cell_type": "code",
   "execution_count": 5,
   "metadata": {},
   "outputs": [
    {
     "data": {
      "text/plain": [
       "['b', 'h', 'l', 9, 2, 8, 7]"
      ]
     },
     "execution_count": 5,
     "metadata": {},
     "output_type": "execute_result"
    }
   ],
   "source": [
    "def r_list(lst):\n",
    "   return lst[::-1]\n",
    "r_list([7,8,2,9,'l','h','b'])\n"
   ]
  },
  {
   "cell_type": "markdown",
   "metadata": {},
   "source": [
    "#2"
   ]
  },
  {
   "cell_type": "code",
   "execution_count": 11,
   "metadata": {},
   "outputs": [
    {
     "name": "stdout",
     "output_type": "stream",
     "text": [
      "samiya\n"
     ]
    }
   ],
   "source": [
    "def finding_max(my_list):\n",
    "  max = ''\n",
    "  for i in my_list:\n",
    "    if isinstance(i, str):\n",
    "      i_value = len(i)\n",
    "    else:\n",
    "      i_value = i\n",
    "\n",
    "    if max == '' or i_value > max:\n",
    "      max = i_value\n",
    "  for i in my_list:\n",
    "    if isinstance(i, str) and len(i) == max:\n",
    "      return i\n",
    "    elif isinstance(i, (int, float)) and i == max:\n",
    "      return i\n",
    "\n",
    "my_list = [4, 'samiya', 'helma', 5, 'amin', 5, 'nader']\n",
    "result = finding_max(my_list)\n",
    "print(result)"
   ]
  },
  {
   "cell_type": "code",
   "execution_count": null,
   "metadata": {},
   "outputs": [],
   "source": [
    "#3"
   ]
  },
  {
   "cell_type": "code",
   "execution_count": 17,
   "metadata": {},
   "outputs": [
    {
     "name": "stdout",
     "output_type": "stream",
     "text": [
      "Your license has been revoked !\n",
      "13\n"
     ]
    }
   ],
   "source": [
    "def speed_control(speed):\n",
    "  if speed <= 70:\n",
    "    return \"good\"\n",
    "  else:\n",
    "    scores = (speed - 70) // 5\n",
    "    if scores > 12:\n",
    "      print(\"Your license has been revoked !\")\n",
    "    return scores\n",
    "\n",
    "speed = 137\n",
    "result = speed_control(speed)\n",
    "print(result)"
   ]
  },
  {
   "cell_type": "code",
   "execution_count": null,
   "metadata": {},
   "outputs": [],
   "source": [
    "#4"
   ]
  },
  {
   "cell_type": "code",
   "execution_count": 2,
   "metadata": {},
   "outputs": [
    {
     "name": "stdout",
     "output_type": "stream",
     "text": [
      "the distance between two points 21.02379604162864\n"
     ]
    }
   ],
   "source": [
    "import math\n",
    "def oghlidosi_distance(x1, y1, x2, y2):\n",
    "    distance = math.sqrt((x2 - x1)**2 + (y2 - y1)**2)\n",
    "    return distance\n",
    "while True:\n",
    "    try:\n",
    "        x1 = float(input(\"Please enter the x coordinate of the first point: \"))\n",
    "        y1 = float(input(\"Please enter the y coordinate of the first point: \"))\n",
    "        x2 = float(input(\"Please enter the x coordinate of the second point: \"))\n",
    "        y2 = float(input(\"Please enter the y coordinate of the second point: \"))\n",
    "\n",
    "        distance = oghlidosi_distance(x1, y1, x2, y2)\n",
    "        print(\"the distance between two points\", distance)\n",
    "        break \n",
    "\n",
    "    except ValueError:\n",
    "        print(\"wrong entry ! please enter a number !\")"
   ]
  },
  {
   "cell_type": "code",
   "execution_count": null,
   "metadata": {},
   "outputs": [],
   "source": [
    "#5"
   ]
  },
  {
   "cell_type": "code",
   "execution_count": null,
   "metadata": {},
   "outputs": [
    {
     "name": "stdout",
     "output_type": "stream",
     "text": [
      "Three points are congruent :):\n"
     ]
    }
   ],
   "source": [
    "def Alignment_check(x1, y1, x2, y2, x3, y3):\n",
    "      if x1 == x2 and x2 == x3:\n",
    "        return True \n",
    "      if y1 == y2 and y2 == y3:\n",
    "        return True \n",
    "      slope1 = (y2 - y1) / (x2 - x1)\n",
    "      slope2 = (y3 - y2) / (x3 - x2)\n",
    "\n",
    "      return slope1 - slope2 ==0\n",
    "\n",
    "x1 = float(input(\"Please enter the x coordinate of the first point : \"))\n",
    "y1 = float(input(\"Please enter the y coordinate of the first point :\"))\n",
    "x2 = float(input(\"Please enter the x coordinate of the second point :\"))\n",
    "y2 = float(input(\"Please enter the y coordinate of the second point :\"))\n",
    "x3 = float(input(\"Please enter the x coordinate of the third point :\"))\n",
    "y3 = float(input(\"Please enter the y coordinate of the third point :\"))\n",
    "\n",
    "if Alignment_check(x1, y1, x2, y2, x3, y3):\n",
    "  print(\"Three points are congruent :):\")\n",
    "else:  \n",
    "  print(\"Three points are not congruent :(:\")"
   ]
  },
  {
   "cell_type": "markdown",
   "metadata": {},
   "source": [
    "#6"
   ]
  },
  {
   "cell_type": "code",
   "execution_count": 7,
   "metadata": {},
   "outputs": [
    {
     "name": "stdout",
     "output_type": "stream",
     "text": [
      "triangle_type : normal\n"
     ]
    }
   ],
   "source": [
    "import math\n",
    "\n",
    "def distance(x1, y1, x2, y2):\n",
    "  return math.sqrt((x2 - x1)**2 + (y2 - y1)**2)\n",
    "\n",
    "def determine_triangle_type(x1, y1, x2, y2, x3, y3):\n",
    "  a = distance(x1, y1, x2, y2)\n",
    "  b = distance(x2, y2, x3, y3)\n",
    "  c = distance(x1, y1, x3, y3)\n",
    "  sides = sorted([a, b, c], reverse=True)\n",
    "  a, b, c = sides\n",
    "\n",
    "  if a == b == c:\n",
    "      return \"Equilateral\"#متساوی الاضلاع\n",
    "  elif a == b or b == c or a == c:\n",
    "      return \"equals\"#متساوی الساقین\n",
    "  elif a**2 == b**2 + c**2:\n",
    "      return \"right angle\"#قائم‌الزاویه\n",
    "  else:\n",
    "      return \"normal\"#معمولی\n",
    "\n",
    "x1 = float(input(\"Please enter the x coordinate of the first point : \"))\n",
    "y1 = float(input(\"Please enter the y coordinate of the first point :\"))\n",
    "x2 = float(input(\"Please enter the x coordinate of the second point :\"))\n",
    "y2 = float(input(\"Please enter the y coordinate of the second point :\"))\n",
    "x3 = float(input(\"Please enter the x coordinate of the third point :\"))\n",
    "y3 = float(input(\"Please enter the y coordinate of the third point :\"))\n",
    "\n",
    "if Alignment_check(x1, y1, x2, y2, x3, y3):\n",
    "   print(\"Three points are congruent :):\")\n",
    "else:\n",
    "  triangle_type = determine_triangle_type(x1, y1, x2, y2, x3, y3)\n",
    "  print(f\"triangle_type : {triangle_type}\")"
   ]
  },
  {
   "cell_type": "markdown",
   "metadata": {},
   "source": [
    "#7"
   ]
  },
  {
   "cell_type": "code",
   "execution_count": null,
   "metadata": {},
   "outputs": [
    {
     "name": "stdout",
     "output_type": "stream",
     "text": [
      "{'2': 'j', '8': 'n', '6': 'u'}\n"
     ]
    }
   ],
   "source": [
    "def reverse_dictionary():\n",
    "    my_dict = {}\n",
    "    reversed_dict = {} \n",
    "    while True:\n",
    "       key = input(\"Enter the key (hit 'q' to finish entering: \")\n",
    "       if key.lower() == 'q':\n",
    "          break\n",
    "       value = input(\"Enter the amount: \")\n",
    "       my_dict[key] = value \n",
    "       reversed_dict[value] = key \n",
    "\n",
    "    return reversed_dict\n",
    "\n",
    "new_dict = reverse_dictionary()\n",
    "print(new_dict)"
   ]
  },
  {
   "cell_type": "markdown",
   "metadata": {},
   "source": [
    "#8"
   ]
  },
  {
   "cell_type": "code",
   "execution_count": null,
   "metadata": {},
   "outputs": [
    {
     "name": "stdout",
     "output_type": "stream",
     "text": [
      "[(1, 2), (-3, 4), (0, 5)]\n"
     ]
    }
   ],
   "source": [
    "import math\n",
    "\n",
    "def distance(x1, y1, x2, y2):\n",
    "    return math.sqrt((x2 - x1)**2 + (y2 - y1)**2)\n",
    "\n",
    "def sort_points_by_distance(points):\n",
    "     with_distances = []\n",
    "     for point in points:\n",
    "         x, y = point\n",
    "         dist = distance(x, y, 0, 0) \n",
    "         with_distances.append((point, dist))\n",
    "     with_distances.sort(key=lambda x: x[1])\n",
    "\n",
    "     sorted_points = [point for point, _ in with_distances]\n",
    "\n",
    "     return sorted_points\n",
    "\n",
    "points = [(1, 2), (-3, 4), (0, 5)]\n",
    "sorted_points = sort_points_by_distance(points)\n",
    "print(sorted_points)"
   ]
  }
 ],
 "metadata": {
  "kernelspec": {
   "display_name": "Python 3",
   "language": "python",
   "name": "python3"
  },
  "language_info": {
   "codemirror_mode": {
    "name": "ipython",
    "version": 3
   },
   "file_extension": ".py",
   "mimetype": "text/x-python",
   "name": "python",
   "nbconvert_exporter": "python",
   "pygments_lexer": "ipython3",
   "version": "3.10.11"
  }
 },
 "nbformat": 4,
 "nbformat_minor": 2
}
