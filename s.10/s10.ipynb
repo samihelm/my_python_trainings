{
 "cells": [
  {
   "cell_type": "markdown",
   "metadata": {},
   "source": [
    "1"
   ]
  },
  {
   "cell_type": "code",
   "execution_count": 2,
   "metadata": {},
   "outputs": [],
   "source": [
    "with open (\"t1.txt\",\"w\") as f:\n",
    "    s=\"hello i am maryam \"\n",
    "    f.write(s)\n",
    "\n",
    "with open (\"t2.txt\",\"w\") as f:\n",
    "    f.write(s)\n",
    "\n",
    "    "
   ]
  },
  {
   "cell_type": "markdown",
   "metadata": {},
   "source": [
    "2"
   ]
  },
  {
   "cell_type": "code",
   "execution_count": 11,
   "metadata": {},
   "outputs": [
    {
     "data": {
      "text/plain": [
       "'hello i am samiya '"
      ]
     },
     "execution_count": 11,
     "metadata": {},
     "output_type": "execute_result"
    }
   ],
   "source": [
    "def replacing_word_file(file_name,word_1,word_2):\n",
    "   \n",
    "    with open (file_name,\"r\") as f:\n",
    "        c=f.read()\n",
    "    n_c=c.replace(word_1,word_2)\n",
    "    with open(file_name,\"w\") as f:\n",
    "        f.write(n_c)\n",
    "    return n_c  \n",
    "file_name=input(\"please enter your file name:  \")\n",
    "word_1=input(\"please enter your old word:   \")\n",
    "word_2=input(\"please enter your new word:   \")  \n",
    "replacing_word_file(file_name,word_1,word_2)\n",
    "    \n",
    "    \n"
   ]
  },
  {
   "cell_type": "markdown",
   "metadata": {},
   "source": [
    "3"
   ]
  },
  {
   "cell_type": "code",
   "execution_count": 12,
   "metadata": {},
   "outputs": [
    {
     "name": "stdout",
     "output_type": "stream",
     "text": [
      "random numbers: [74, 49, 41, 42, 28, 41, 96, 37, 21, 73]\n",
      "even numbers:  [74, 42, 28, 96]\n",
      "odd numbers:  [49, 41, 41, 37, 21, 73]\n"
     ]
    }
   ],
   "source": [
    "import random\n",
    "r_num= [random.randint(1, 100) for _ in range(10)]\n",
    "even_num= []\n",
    "odd_num = []\n",
    "for number in r_num:\n",
    "    if number % 2 == 0:\n",
    "        even_num.append(number)\n",
    "    else:\n",
    "       odd_num.append(number)\n",
    "\n",
    "print(\"random numbers:\", r_num)\n",
    "print(\"even numbers: \", even_num)\n",
    "print(\"odd numbers: \", odd_num)"
   ]
  },
  {
   "cell_type": "markdown",
   "metadata": {},
   "source": [
    "4"
   ]
  },
  {
   "cell_type": "code",
   "execution_count": null,
   "metadata": {},
   "outputs": [],
   "source": [
    "ls= [i for i in range(0,100) if i% 5 ==0 or i% 6 == 0]\n",
    "ls"
   ]
  },
  {
   "cell_type": "markdown",
   "metadata": {},
   "source": [
    "6"
   ]
  },
  {
   "cell_type": "code",
   "execution_count": null,
   "metadata": {},
   "outputs": [],
   "source": [
    "def read_last_n_lines(file_path, n):\n",
    " \n",
    "  with open(file_path, 'r') as f:\n",
    "    lines = []\n",
    "    for line in f:\n",
    "      lines.append(line)\n",
    "      if len(lines) > n:\n",
    "        lines.pop(0)\n",
    "    return lines\n",
    "\n",
    "file_path = \"t2.txt\"\n",
    "n = 10\n",
    "last_n_lines = read_last_n_lines(file_path, n)\n",
    "\n",
    "for line in last_n_lines:\n",
    "  print(line)"
   ]
  },
  {
   "cell_type": "markdown",
   "metadata": {},
   "source": [
    "7"
   ]
  },
  {
   "cell_type": "code",
   "execution_count": 18,
   "metadata": {},
   "outputs": [
    {
     "name": "stdout",
     "output_type": "stream",
     "text": [
      "hello i am maryam \n",
      "\n",
      "i working python\n",
      "\n",
      "i am from tehran\n",
      "\n",
      "mr mostafaee is our teacher\n",
      "\n",
      "the class is in shariati street\n",
      "\n"
     ]
    }
   ],
   "source": [
    "def read_first_n_lines(file_path, n):\n",
    "    with open(file_path,'r') as f:\n",
    "        lines = f.readlines()\n",
    "        return lines[:n]\n",
    "\n",
    "file_path = \"t2.txt\"\n",
    "n = 5\n",
    "first_n_lines = read_first_n_lines(file_path, n)\n",
    "\n",
    "for line in first_n_lines:\n",
    "  print(line)"
   ]
  }
 ],
 "metadata": {
  "kernelspec": {
   "display_name": "Python 3",
   "language": "python",
   "name": "python3"
  },
  "language_info": {
   "codemirror_mode": {
    "name": "ipython",
    "version": 3
   },
   "file_extension": ".py",
   "mimetype": "text/x-python",
   "name": "python",
   "nbconvert_exporter": "python",
   "pygments_lexer": "ipython3",
   "version": "3.10.11"
  }
 },
 "nbformat": 4,
 "nbformat_minor": 2
}
