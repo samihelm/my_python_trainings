{
 "cells": [
  {
   "cell_type": "markdown",
   "metadata": {},
   "source": [
    "1"
   ]
  },
  {
   "cell_type": "code",
   "execution_count": 1,
   "metadata": {},
   "outputs": [
    {
     "name": "stdout",
     "output_type": "stream",
     "text": [
      "the multiply of numbers is :  24.0\n"
     ]
    }
   ],
   "source": [
    "numbers=[]\n",
    "num_input=int(input(\"please enter the number of inputs: \"))\n",
    "result=1\n",
    "for i in range(num_input):\n",
    "    n= float(input(f\"enter number{i+1}: \"))\n",
    "    numbers.append(n)\n",
    "    result*=n\n",
    "print(\"the multiply of numbers is : \",result)    "
   ]
  },
  {
   "cell_type": "markdown",
   "metadata": {},
   "source": [
    "2"
   ]
  },
  {
   "cell_type": "code",
   "execution_count": 3,
   "metadata": {},
   "outputs": [
    {
     "name": "stdout",
     "output_type": "stream",
     "text": [
      "List after removing duplicates:  [2.0, 4.0, 8.0, 9.0, 7.0]\n"
     ]
    }
   ],
   "source": [
    "#لیست اولیه\n",
    "numbers=[]\n",
    "#لیست بدون اعداد تکراری\n",
    "numbers_2=[]\n",
    "num_input=int(input(\"please enter the number of inputs: \"))\n",
    "for i in range(num_input):\n",
    "    n= float(input(f\"enter number{i+1}: \"))\n",
    "    numbers.append(n)\n",
    "    for number in numbers:\n",
    "        if number not in numbers_2:\n",
    "           numbers_2.append(number)\n",
    "    \n",
    "print(\"List after removing duplicates: \",numbers_2)    "
   ]
  },
  {
   "cell_type": "markdown",
   "metadata": {},
   "source": [
    "3"
   ]
  },
  {
   "cell_type": "code",
   "execution_count": 4,
   "metadata": {},
   "outputs": [
    {
     "name": "stdout",
     "output_type": "stream",
     "text": [
      "the list of Common elements :  [3.0, 3.0]\n"
     ]
    }
   ],
   "source": [
    "list_1=[]\n",
    "list_2=[]\n",
    "num_input_1=int(input(\"please enter the number of inputs for list_1: \"))\n",
    "num_input_2=int(input(\"please enter the number of inputs for list_2: \"))\n",
    "list_3=[]\n",
    "\n",
    "for i in range(num_input_1):\n",
    "    n_1= float(input(f\"for list_1 : enter number {i+1}: \"))\n",
    "    list_1.append(n_1)\n",
    "for i in range(num_input_2):\n",
    "    n_2= float(input(f\"for list_2 : enter number {i+1}: \"))\n",
    "    list_2.append(n_2)    \n",
    "for h in list_1:\n",
    "    if h in list_2:\n",
    "        list_3.append(h)\n",
    "    \n",
    "print(\"the list of Common elements : \",list_3)    "
   ]
  },
  {
   "cell_type": "markdown",
   "metadata": {},
   "source": [
    "4"
   ]
  },
  {
   "cell_type": "code",
   "execution_count": 7,
   "metadata": {},
   "outputs": [
    {
     "name": "stdout",
     "output_type": "stream",
     "text": [
      "the list of uncommon elements :  [1.0, 4.0, 5.0, 6.0]\n"
     ]
    }
   ],
   "source": [
    "list_1=[]\n",
    "list_2=[]\n",
    "num_input_1=int(input(\"please enter the number of inputs for list_1: \"))\n",
    "num_input_2=int(input(\"please enter the number of inputs for list_2: \"))\n",
    "list_3=[]\n",
    "\n",
    "for i in range(num_input_1):\n",
    "    n_1= float(input(f\"for list_1 : enter number {i+1}: \"))\n",
    "    list_1.append(n_1)\n",
    "for j in range(num_input_2):\n",
    "    n_2= float(input(f\"for list_2 : enter number {j+1}: \"))\n",
    "    list_2.append(n_2)    \n",
    "for h in list_1:\n",
    "    if h  not in list_2:\n",
    "        list_3.append(h)\n",
    "for Z in list_2:\n",
    "    if Z  not in list_1:\n",
    "        list_3.append(Z)        \n",
    "print(\"the list of uncommon elements : \",list_3)    "
   ]
  },
  {
   "cell_type": "markdown",
   "metadata": {},
   "source": [
    "5"
   ]
  },
  {
   "cell_type": "code",
   "execution_count": null,
   "metadata": {},
   "outputs": [],
   "source": [
    "sentence = input(\"Enter an English sentence: \")\n",
    "vowels = \"aeiouAEIOU\"\n",
    "list_vowels = []\n",
    "for i in sentence:\n",
    "    if i in vowels and i not in list_vowels:\n",
    "        list_vowels.append(i)\n",
    "print(\"Vowels found in the sentence:\", list_vowels)\n"
   ]
  }
 ],
 "metadata": {
  "kernelspec": {
   "display_name": "Python 3",
   "language": "python",
   "name": "python3"
  },
  "language_info": {
   "codemirror_mode": {
    "name": "ipython",
    "version": 3
   },
   "file_extension": ".py",
   "mimetype": "text/x-python",
   "name": "python",
   "nbconvert_exporter": "python",
   "pygments_lexer": "ipython3",
   "version": "3.10.11"
  }
 },
 "nbformat": 4,
 "nbformat_minor": 2
}
